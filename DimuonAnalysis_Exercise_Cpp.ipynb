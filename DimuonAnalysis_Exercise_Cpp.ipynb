{
 "cells": [
  {
   "cell_type": "markdown",
   "metadata": {},
   "source": [
    "# Analysis of an open dataset with RDataFrame\n",
    "<hr style=\"border-top-width: 4px; border-top-color: #34609b;\">\n",
    "This ROOTbook produces a plot of the dimuon invariant mass spectrum starting from a subset of the CMS collision events of Run2010B. \n",
    "Every entry in the dataset represents a muon pair. The columns available and their types are:\n",
    "\n",
    "| Column Name   | Type     | Quantity                                      |\n",
    "| :-----------: |:--------:| :--------------------------------------------:|\n",
    "| *E1*          | double   | Energy of the first muon |\n",
    "| *eta1*        | double   | Pseudorapidity of the first muon |\n",
    "| *phi1*        | double   | Phi of the first muon |\n",
    "| *px1*         | double   | X component of the momentum of the first muon |\n",
    "| *py1*         | double   | Y component of the momentum of the first muon |\n",
    "| *pz1*         | double   | Z component of the momentum of the first muon |\n",
    "| *pt1*         | double   | Transverse momentum of the first muon |\n",
    "| *C1*          | Long64_t | Charge of the momentum of the first muon |\n",
    "| *E2*          | double   | Energy of the second muon |\n",
    "| *eta2*        | double   | Pseudorapidity of the second muon |\n",
    "| *phi2*        | double   | Phi of the second muon |\n",
    "| *px2*         | double   | X component of the momentum of the second muon |\n",
    "| *py2*         | double   | Y component of the momentum of the second muon |\n",
    "| *pz2*         | double   | Z component of the momentum of the second muon |\n",
    "| *pt2*         | double   | Transverse momentum of the second muon |\n",
    "| *C2*          | Long64_t | Charge of the momentum of the second muon |\n",
    "\n",
    "\n",
    "\n",
    "Dataset Reference:<br>\n",
    "McCauley, T. (2014). Dimuon event information derived from the Run2010B public Mu dataset. CERN Open Data Portal. DOI: [10.7483/OPENDATA.CMS.CB8H.MFFA](http://opendata.cern.ch/record/700).\n",
    "\n",
    "## Objective of this exercise\n",
    "The objective is to illustrate how to use RDataFrame to produce the plot of the dimuon invariant mass spectrum, apply some cuts and inspect their efficiency and create some control plots.\n",
    "In some sense, this is a minimal form of what could be conceptually called an \"analysis\".\n",
    "\n",
    "### RDataFrame creation\n",
    "Let's create an *RDataFrame*, which is located in the *ROOT* namespace. The filename(s) can be specified as a string (with a path or a glob) or a list of strings.\n",
    "The file path is **https://root.cern/files/teaching/CMS_Open_Dataset.root** and it contains a tree called **data**."
   ]
  },
  {
   "cell_type": "code",
   "execution_count": null,
   "metadata": {},
   "outputs": [],
   "source": [
    "using RDataFrame = ROOT::RDataFrame;\n",
    "auto df = <your code here>"
   ]
  },
  {
   "cell_type": "markdown",
   "metadata": {},
   "source": [
    "## Definition of the \"analisys\" cuts\n",
    "We need to apply some quality cuts to our muons:\n",
    "- Central muons, with a pseudorapidity smaller than 2.3\n",
    "- Muons of opposite charge :)\n",
    "- Muons with transverse momentum greater than 2 GeV\n",
    "\n",
    "In addition, we will define the charge cut as a C++ lambda and the other two as strings. Remember that the strings need to be valid **C++**!\n",
    "\n",
    "The dataframe needs to be saved in a variable: we'll need that later. The filters have a name: this will be used at the end of the \"analysis\" to study the efficiency of the selections."
   ]
  },
  {
   "cell_type": "code",
   "execution_count": null,
   "metadata": {},
   "outputs": [],
   "source": [
    "auto chargeCut = [](Long64_t c1, Long64_t c2){ return c1 != c2;};\n",
    "auto etaCutStr = \"fabs(eta1) < 2.3 && fabs(eta2) < 2.3\";\n",
    "auto ptCutStr = <your code here>\n",
    "auto df_f = df.Filter(<your code here>, \"Opposite Charge\")\n",
    "              .Filter(<your code here>, \"Central Muons\")\n",
    "              .Filter(<your code here>, \"Sane Pt\");"
   ]
  },
  {
   "cell_type": "markdown",
   "metadata": {},
   "source": [
    "### Creation of a column holding the invariant mass of the dimuon system\n",
    "Here we create a new column, which does not exist in the original dataset. \n",
    "We can create it with the usual invariant mass formula, packed in a string.\n",
    "\\begin{align}\n",
    "m = \\sqrt{(E1+E2)^2 - (px1+px2)^2 - (py1+py2)^2 - (pz1+pz2)^2 }\n",
    "\\end{align}\n",
    "Remember that the string needs to be valid **C++**!"
   ]
  },
  {
   "cell_type": "code",
   "execution_count": null,
   "metadata": {},
   "outputs": [],
   "source": [
    "auto invMassFormulaStr = <your code here>\n",
    "auto df_fd = df_f.<your code here>"
   ]
  },
  {
   "cell_type": "markdown",
   "metadata": {
    "collapsed": true
   },
   "source": [
    "### Creation of the histograms and cutflow efficiency reports\n",
    "We now create our histograms. We'll prepare some control plots and the invariant mass plot.\n",
    "The control plots needed are:\n",
    "- A histogram of the transverse momenta of the muons (1 histogram for each of the leptons) before all cuts\n",
    "- A 2D histogram with the phi of the first muon on the x axis and the phi of the second muon on the y axis\n",
    "\n",
    "The main plot with the invariant mass of the dimuon system has 512 bins from 5 to 110 GeV.\n",
    "\n",
    "This is perhaps an opportunity to try out the automatic colouring.\n",
    "\n",
    "In addition, after drawing, you will invoke the **Report()** method on the top level node to inspect the efficiency of the cuts.\n",
    "\n",
    "**BE CAREFUL!!** When using notebooks, it's good practice to create **TCanvas** instances explicitly - to display the images you *need* to **Draw** the canvases too (there is no asynchronicity in a notebook: drawing must be explicit)."
   ]
  },
  {
   "cell_type": "code",
   "execution_count": null,
   "metadata": {},
   "outputs": [],
   "source": [
    "auto pt1_h = df.Histo1D(\"pt1\");\n",
    "auto pt2_h = <your code here>\n",
    "\n",
    "// Do not forget to specify the model for the following histograms\n",
    "auto invMass_h = df_fd.<your code here>\n",
    "\n",
    "auto phis_h = df_fd.<your code here>\n",
    "\n",
    "TCanvas muonsPts;\n",
    "<your code here>\n",
    "muonsPts.Draw();\n",
    "\n",
    "TCanvas phis;\n",
    "<your code here>"
   ]
  },
  {
   "cell_type": "markdown",
   "metadata": {},
   "source": [
    "Now we print the efficiency of the cuts"
   ]
  },
  {
   "cell_type": "code",
   "execution_count": null,
   "metadata": {},
   "outputs": [],
   "source": [
    "df.<your code here>"
   ]
  },
  {
   "cell_type": "markdown",
   "metadata": {},
   "source": [
    "The final plot with a little extra: interactive ROOT JavaScript visualisation. Feel free to zoom and modify the plot using your mouse and keyboard."
   ]
  },
  {
   "cell_type": "code",
   "execution_count": null,
   "metadata": {},
   "outputs": [],
   "source": [
    "%jsroot on\n",
    "TCanvas invMass;\n",
    "<your code here>\n",
    "invMass.Draw();"
   ]
  },
  {
   "cell_type": "markdown",
   "metadata": {
    "collapsed": true
   },
   "source": [
    "What resonances do you recognise?"
   ]
  }
 ],
 "metadata": {
  "kernelspec": {
   "display_name": "ROOT C++",
   "language": "c++",
   "name": "root"
  },
  "language_info": {
   "codemirror_mode": "text/x-c++src",
   "file_extension": ".C",
   "mimetype": " text/x-c++src",
   "name": "c++"
  }
 },
 "nbformat": 4,
 "nbformat_minor": 2
}
