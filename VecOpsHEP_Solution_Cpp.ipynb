{
 "cells": [
  {
   "cell_type": "markdown",
   "metadata": {},
   "source": [
    "# VecOps\n",
    "This tutorial shows how VecOps can be used to slim down the programming model typically adopted in HEP for analysis.\n",
    "We compare the approach of PyROOT and of RDataFrame.\n",
    "\n",
    "Our dataset contains for every event three collections of floating point numbers of equal size: **E**, **px** and **py**. We can imagine these are properties of muons, or more in general, of *candidates*.\n",
    "Our goal is to:.\n",
    "1. Select the candidates in all events for which the energy, *E*, is greater than 100.\n",
    "2. Calculate the transverse momentum as the square sum of **px** and **py**.\n",
    "3. Fill a histogram with the transverse momenta."
   ]
  },
  {
   "cell_type": "code",
   "execution_count": 1,
   "metadata": {},
   "outputs": [],
   "source": [
    "auto filename = \"vecOpsHEP.root\";\n",
    "auto treename = \"myDataset\";\n",
    "using doubles = ROOT::VecOps::RVec<double>;\n",
    "using RDF = ROOT::RDataFrame;"
   ]
  },
  {
   "cell_type": "markdown",
   "metadata": {},
   "source": [
    "We achieve our goal using the *TTreeReader* interfaces. With the bare usage of *TTree* it would be more cumbersome."
   ]
  },
  {
   "cell_type": "code",
   "execution_count": 2,
   "metadata": {},
   "outputs": [],
   "source": [
    "void WithTTreeReader()\n",
    "{\n",
    "   TFile f(filename);\n",
    "   TTreeReader tr(treename, &f);\n",
    "   TTreeReaderArray<double> px(tr, \"px\");\n",
    "   TTreeReaderArray<double> py(tr, \"py\");\n",
    "   TTreeReaderArray<double> E(tr, \"E\");\n",
    "\n",
    "   TH1F h(\"pt\", \"pt\", 16, 0, 4);\n",
    "\n",
    "   while (tr.Next()) {\n",
    "      for (auto i=0U;i < px.GetSize(); ++i) {\n",
    "         if (E[i] > 100) h.Fill(sqrt(px[i]*px[i] + py[i]*py[i]));\n",
    "      }\n",
    "   }\n",
    "   h.DrawCopy();\n",
    "}"
   ]
  },
  {
   "cell_type": "markdown",
   "metadata": {},
   "source": [
    "We now do this using *RDataFrame*, explicitly expressing our points 1. and 2. as a lambda function and spelling out all templates. Observe how the histogram can be filled with a collection in a way which is transparent to the user.\n",
    "\n",
    "This is a nice and performant way to proceed, but the programming model can be improved."
   ]
  },
  {
   "cell_type": "code",
   "execution_count": 3,
   "metadata": {},
   "outputs": [],
   "source": [
    "void WithRDataFrame()\n",
    "{\n",
    "  RDF f(treename, filename);\n",
    "   auto CalcPt = [](doubles &px, doubles &py, doubles &E) {\n",
    "      doubles v;\n",
    "      for (auto i=0U;i < px.size(); ++i) {\n",
    "         if (E[i] > 100) {\n",
    "            v.emplace_back(sqrt(px[i]*px[i] + py[i]*py[i]));\n",
    "         }\n",
    "      }\n",
    "      return v;\n",
    "   };\n",
    "   f.Define(\"pt\", CalcPt, {\"px\", \"py\", \"E\"})\n",
    "    .Histo1D<doubles>({\"pt\", \"pt\", 16, 0, 4}, \"pt\")->DrawCopy();\n",
    "}"
   ]
  },
  {
   "cell_type": "markdown",
   "metadata": {},
   "source": [
    "We therefore introduce *RVec*. Looping on candidates is now easily dealt with. The density of meaning of the code increases. The opportunities to make mistakes are fewer."
   ]
  },
  {
   "cell_type": "code",
   "execution_count": 4,
   "metadata": {},
   "outputs": [],
   "source": [
    "void WithRDataFrameVecOps()\n",
    "{\n",
    "   RDF f(treename, filename);\n",
    "   auto CalcPt = [](doubles &px, doubles &py, doubles &E) {\n",
    "      auto pt = sqrt(px*px + py*py);\n",
    "      return pt[E>100];\n",
    "   };\n",
    "   f.Define(\"good_pt\", CalcPt, {\"px\", \"py\", \"E\"})\n",
    "    .Histo1D<doubles>({\"pt\", \"pt\", 16, 0, 4}, \"good_pt\")->DrawCopy();\n",
    "}"
   ]
  },
  {
   "cell_type": "markdown",
   "metadata": {},
   "source": [
    "We now exploit the string based interfaces of *RDataFrame*. The template parameters do not need to be expressed but they are still there, implicitly. The code continues to be type safe: it's ROOT's C++ interpreter which does all the heavy lifting."
   ]
  },
  {
   "cell_type": "code",
   "execution_count": 5,
   "metadata": {},
   "outputs": [],
   "source": [
    "%%cpp -d\n",
    "void WithRDataFrameVecOpsJit()\n",
    "{\n",
    "   RDF f(treename, filename);\n",
    "   f.Define(\"good_pt\", \"sqrt(px*px + py*py)[E>100]\")\n",
    "    .Histo1D({\"pt\", \"pt\", 16, 0, 4}, \"good_pt\")->DrawCopy();\n",
    "}"
   ]
  },
  {
   "cell_type": "markdown",
   "metadata": {},
   "source": [
    "We plot four times the same quantity, the key is to look into the implementation\n",
    " of the functions above"
   ]
  },
  {
   "cell_type": "code",
   "execution_count": 6,
   "metadata": {},
   "outputs": [],
   "source": [
    "TCanvas c;\n",
    "c.Divide(2,2);\n",
    "c.cd(1);\n",
    "WithTTreeReader();\n",
    "c.cd(2);\n",
    "WithRDataFrame();\n",
    "c.cd(3);\n",
    "WithRDataFrameVecOps();\n",
    "c.cd(4);\n",
    "WithRDataFrameVecOpsJit();"
   ]
  },
  {
   "cell_type": "markdown",
   "metadata": {},
   "source": [
    "Draw all canvases "
   ]
  },
  {
   "cell_type": "code",
   "execution_count": 7,
   "metadata": {},
   "outputs": [
    {
     "data": {
      "image/png": "[encoded data removed]",
      "text/plain": [
       "<IPython.core.display.Image object>"
      ]
     },
     "metadata": {},
     "output_type": "display_data"
    }
   ],
   "source": [
    "c.Draw()"
   ]
  }
 ],
 "metadata": {
  "kernelspec": {
   "display_name": "ROOT C++",
   "language": "c++",
   "name": "root"
  },
  "language_info": {
   "codemirror_mode": "text/x-c++src",
   "file_extension": ".C",
   "mimetype": " text/x-c++src",
   "name": "c++"
  }
 },
 "nbformat": 4,
 "nbformat_minor": 1
}
